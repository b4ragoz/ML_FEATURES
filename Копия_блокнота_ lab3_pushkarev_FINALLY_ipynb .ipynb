{
  "nbformat": 4,
  "nbformat_minor": 0,
  "metadata": {
    "colab": {
      "provenance": []
    },
    "kernelspec": {
      "name": "python3",
      "display_name": "Python 3"
    },
    "language_info": {
      "name": "python"
    }
  },
  "cells": [
    {
      "cell_type": "markdown",
      "source": [
        "# Лабароторная работа 3. Обучение с учителем. Задача Регрессии.\n"
      ],
      "metadata": {
        "id": "Iqg2sbKpZDQF"
      }
    },
    {
      "cell_type": "markdown",
      "source": [
        "# Задача регрессии\n"
      ],
      "metadata": {
        "id": "m5MrUJ7bbfA6"
      }
    },
    {
      "cell_type": "markdown",
      "source": [
        "Загрузка данных."
      ],
      "metadata": {
        "id": "u2SwkxmUbpsu"
      }
    },
    {
      "cell_type": "code",
      "source": [
        "import pandas as pd"
      ],
      "metadata": {
        "id": "FrtL1sKHbP4K"
      },
      "execution_count": null,
      "outputs": []
    },
    {
      "cell_type": "code",
      "source": [
        "data = pd.read_csv('moldova_cars_task.csv')\n",
        "data\n",
        "data.info()"
      ],
      "metadata": {
        "colab": {
          "base_uri": "https://localhost:8080/"
        },
        "id": "NiX4Ev4AcGkD",
        "outputId": "8f20664d-2282-4209-d150-84063a29736d"
      },
      "execution_count": null,
      "outputs": [
        {
          "output_type": "stream",
          "name": "stdout",
          "text": [
            "<class 'pandas.core.frame.DataFrame'>\n",
            "RangeIndex: 30487 entries, 0 to 30486\n",
            "Data columns (total 9 columns):\n",
            " #   Column                Non-Null Count  Dtype  \n",
            "---  ------                --------------  -----  \n",
            " 0   Make                  30487 non-null  object \n",
            " 1   Model                 30235 non-null  object \n",
            " 2   Year                  30308 non-null  float64\n",
            " 3   Style                 30441 non-null  object \n",
            " 4   Distance              30403 non-null  float64\n",
            " 5   Engine_capacity(cm3)  30487 non-null  float64\n",
            " 6   Fuel_type             30487 non-null  object \n",
            " 7   Transmission          30321 non-null  object \n",
            " 8   Price(euro)           30486 non-null  float64\n",
            "dtypes: float64(4), object(5)\n",
            "memory usage: 2.1+ MB\n"
          ]
        }
      ]
    },
    {
      "cell_type": "markdown",
      "source": [
        "Предобработка"
      ],
      "metadata": {
        "id": "_ylvf4X1f-6u"
      }
    },
    {
      "cell_type": "markdown",
      "source": [
        "Подсчет пустых значений"
      ],
      "metadata": {
        "id": "qTRyoMqn_DOh"
      }
    },
    {
      "cell_type": "code",
      "source": [
        "#кол во пропущенных значений\n",
        "data.isna().sum()"
      ],
      "metadata": {
        "colab": {
          "base_uri": "https://localhost:8080/"
        },
        "id": "SrPd73xMdlpO",
        "outputId": "65bb0fa4-86b3-4125-867b-9d587526861f"
      },
      "execution_count": null,
      "outputs": [
        {
          "output_type": "execute_result",
          "data": {
            "text/plain": [
              "Make                      0\n",
              "Model                   252\n",
              "Year                    179\n",
              "Style                    46\n",
              "Distance                 84\n",
              "Engine_capacity(cm3)      0\n",
              "Fuel_type                 0\n",
              "Transmission            166\n",
              "Price(euro)               1\n",
              "dtype: int64"
            ]
          },
          "metadata": {},
          "execution_count": 3
        }
      ]
    },
    {
      "cell_type": "code",
      "source": [
        "columns_to_unknown = ['Model'] #в данных столбцах пустые ячейки будут названы unknown\n",
        "columns_to_median = ['Year', 'Distance'] # в данных столбцах ячейки будут заполнены медианой значений\n",
        "\n",
        "for row in columns_to_unknown:\n",
        "    data[row] = data[row].fillna('unknown')\n",
        "\n",
        "for row in columns_to_median:\n",
        "  data[row]=data[row].fillna(data[row].median())\n",
        "\n",
        "data.dropna(subset=['Transmission', 'Style'],inplace=True) # там где нельзя предсказать данные, строки будут удалены\n",
        "\n",
        "data.isna().sum()"
      ],
      "metadata": {
        "colab": {
          "base_uri": "https://localhost:8080/"
        },
        "id": "IkAaVdJvekPu",
        "outputId": "b563a780-782a-448c-9dd4-e70ecdaf7bcd"
      },
      "execution_count": null,
      "outputs": [
        {
          "output_type": "execute_result",
          "data": {
            "text/plain": [
              "Make                    0\n",
              "Model                   0\n",
              "Year                    0\n",
              "Style                   0\n",
              "Distance                0\n",
              "Engine_capacity(cm3)    0\n",
              "Fuel_type               0\n",
              "Transmission            0\n",
              "Price(euro)             0\n",
              "dtype: int64"
            ]
          },
          "metadata": {},
          "execution_count": 4
        }
      ]
    },
    {
      "cell_type": "markdown",
      "source": [
        "Все типы данных установлены верно, поэтому изменять их тип не будем."
      ],
      "metadata": {
        "id": "GbIlUeV7gZU8"
      }
    },
    {
      "cell_type": "markdown",
      "source": [
        "**EDA**"
      ],
      "metadata": {
        "id": "9zS02PB0gqee"
      }
    },
    {
      "cell_type": "code",
      "source": [
        "data.head(10)"
      ],
      "metadata": {
        "colab": {
          "base_uri": "https://localhost:8080/",
          "height": 418
        },
        "id": "8wlChgx5gvkA",
        "outputId": "741298f2-c5c4-41c7-8ccd-3985f4c26eb3"
      },
      "execution_count": null,
      "outputs": [
        {
          "output_type": "execute_result",
          "data": {
            "text/plain": [
              "         Make          Model    Year      Style  Distance  \\\n",
              "0      Toyota          Prius  2011.0  Hatchback  195000.0   \n",
              "1     Renault   Grand Scenic  2014.0  Universal  135000.0   \n",
              "2  Volkswagen           Golf  1998.0  Hatchback       1.0   \n",
              "3     Renault         Laguna  2012.0  Universal  110000.0   \n",
              "4        Opel          Astra  2006.0  Universal  200000.0   \n",
              "5    Mercedes           Vito  2000.0   Microvan  300000.0   \n",
              "6  Volkswagen         Passat  2010.0  Universal  290000.0   \n",
              "7  Volkswagen        Touareg  2010.0        SUV  220000.0   \n",
              "8    Mercedes  Series (W124)  1991.0      Sedan  240000.0   \n",
              "9         BMW       5 Series  2004.0      Sedan  325000.0   \n",
              "\n",
              "   Engine_capacity(cm3)     Fuel_type Transmission  Price(euro)  \n",
              "0                1800.0        Hybrid    Automatic       7750.0  \n",
              "1                1500.0        Diesel       Manual       8550.0  \n",
              "2                1400.0        Petrol       Manual       2200.0  \n",
              "3                1500.0        Diesel       Manual       6550.0  \n",
              "4                1600.0  Metan/Propan       Manual       4100.0  \n",
              "5                2200.0        Diesel       Manual       3490.0  \n",
              "6                1390.0        Petrol       Manual       5600.0  \n",
              "7                2400.0        Diesel    Automatic      17000.0  \n",
              "8                2300.0        Petrol       Manual       2850.0  \n",
              "9                 300.0        Diesel       Manual       3400.0  "
            ],
            "text/html": [
              "\n",
              "  <div id=\"df-89b9c18b-4f28-4001-92e3-9980fb19e196\" class=\"colab-df-container\">\n",
              "    <div>\n",
              "<style scoped>\n",
              "    .dataframe tbody tr th:only-of-type {\n",
              "        vertical-align: middle;\n",
              "    }\n",
              "\n",
              "    .dataframe tbody tr th {\n",
              "        vertical-align: top;\n",
              "    }\n",
              "\n",
              "    .dataframe thead th {\n",
              "        text-align: right;\n",
              "    }\n",
              "</style>\n",
              "<table border=\"1\" class=\"dataframe\">\n",
              "  <thead>\n",
              "    <tr style=\"text-align: right;\">\n",
              "      <th></th>\n",
              "      <th>Make</th>\n",
              "      <th>Model</th>\n",
              "      <th>Year</th>\n",
              "      <th>Style</th>\n",
              "      <th>Distance</th>\n",
              "      <th>Engine_capacity(cm3)</th>\n",
              "      <th>Fuel_type</th>\n",
              "      <th>Transmission</th>\n",
              "      <th>Price(euro)</th>\n",
              "    </tr>\n",
              "  </thead>\n",
              "  <tbody>\n",
              "    <tr>\n",
              "      <th>0</th>\n",
              "      <td>Toyota</td>\n",
              "      <td>Prius</td>\n",
              "      <td>2011.0</td>\n",
              "      <td>Hatchback</td>\n",
              "      <td>195000.0</td>\n",
              "      <td>1800.0</td>\n",
              "      <td>Hybrid</td>\n",
              "      <td>Automatic</td>\n",
              "      <td>7750.0</td>\n",
              "    </tr>\n",
              "    <tr>\n",
              "      <th>1</th>\n",
              "      <td>Renault</td>\n",
              "      <td>Grand Scenic</td>\n",
              "      <td>2014.0</td>\n",
              "      <td>Universal</td>\n",
              "      <td>135000.0</td>\n",
              "      <td>1500.0</td>\n",
              "      <td>Diesel</td>\n",
              "      <td>Manual</td>\n",
              "      <td>8550.0</td>\n",
              "    </tr>\n",
              "    <tr>\n",
              "      <th>2</th>\n",
              "      <td>Volkswagen</td>\n",
              "      <td>Golf</td>\n",
              "      <td>1998.0</td>\n",
              "      <td>Hatchback</td>\n",
              "      <td>1.0</td>\n",
              "      <td>1400.0</td>\n",
              "      <td>Petrol</td>\n",
              "      <td>Manual</td>\n",
              "      <td>2200.0</td>\n",
              "    </tr>\n",
              "    <tr>\n",
              "      <th>3</th>\n",
              "      <td>Renault</td>\n",
              "      <td>Laguna</td>\n",
              "      <td>2012.0</td>\n",
              "      <td>Universal</td>\n",
              "      <td>110000.0</td>\n",
              "      <td>1500.0</td>\n",
              "      <td>Diesel</td>\n",
              "      <td>Manual</td>\n",
              "      <td>6550.0</td>\n",
              "    </tr>\n",
              "    <tr>\n",
              "      <th>4</th>\n",
              "      <td>Opel</td>\n",
              "      <td>Astra</td>\n",
              "      <td>2006.0</td>\n",
              "      <td>Universal</td>\n",
              "      <td>200000.0</td>\n",
              "      <td>1600.0</td>\n",
              "      <td>Metan/Propan</td>\n",
              "      <td>Manual</td>\n",
              "      <td>4100.0</td>\n",
              "    </tr>\n",
              "    <tr>\n",
              "      <th>5</th>\n",
              "      <td>Mercedes</td>\n",
              "      <td>Vito</td>\n",
              "      <td>2000.0</td>\n",
              "      <td>Microvan</td>\n",
              "      <td>300000.0</td>\n",
              "      <td>2200.0</td>\n",
              "      <td>Diesel</td>\n",
              "      <td>Manual</td>\n",
              "      <td>3490.0</td>\n",
              "    </tr>\n",
              "    <tr>\n",
              "      <th>6</th>\n",
              "      <td>Volkswagen</td>\n",
              "      <td>Passat</td>\n",
              "      <td>2010.0</td>\n",
              "      <td>Universal</td>\n",
              "      <td>290000.0</td>\n",
              "      <td>1390.0</td>\n",
              "      <td>Petrol</td>\n",
              "      <td>Manual</td>\n",
              "      <td>5600.0</td>\n",
              "    </tr>\n",
              "    <tr>\n",
              "      <th>7</th>\n",
              "      <td>Volkswagen</td>\n",
              "      <td>Touareg</td>\n",
              "      <td>2010.0</td>\n",
              "      <td>SUV</td>\n",
              "      <td>220000.0</td>\n",
              "      <td>2400.0</td>\n",
              "      <td>Diesel</td>\n",
              "      <td>Automatic</td>\n",
              "      <td>17000.0</td>\n",
              "    </tr>\n",
              "    <tr>\n",
              "      <th>8</th>\n",
              "      <td>Mercedes</td>\n",
              "      <td>Series (W124)</td>\n",
              "      <td>1991.0</td>\n",
              "      <td>Sedan</td>\n",
              "      <td>240000.0</td>\n",
              "      <td>2300.0</td>\n",
              "      <td>Petrol</td>\n",
              "      <td>Manual</td>\n",
              "      <td>2850.0</td>\n",
              "    </tr>\n",
              "    <tr>\n",
              "      <th>9</th>\n",
              "      <td>BMW</td>\n",
              "      <td>5 Series</td>\n",
              "      <td>2004.0</td>\n",
              "      <td>Sedan</td>\n",
              "      <td>325000.0</td>\n",
              "      <td>300.0</td>\n",
              "      <td>Diesel</td>\n",
              "      <td>Manual</td>\n",
              "      <td>3400.0</td>\n",
              "    </tr>\n",
              "  </tbody>\n",
              "</table>\n",
              "</div>\n",
              "    <div class=\"colab-df-buttons\">\n",
              "\n",
              "  <div class=\"colab-df-container\">\n",
              "    <button class=\"colab-df-convert\" onclick=\"convertToInteractive('df-89b9c18b-4f28-4001-92e3-9980fb19e196')\"\n",
              "            title=\"Convert this dataframe to an interactive table.\"\n",
              "            style=\"display:none;\">\n",
              "\n",
              "  <svg xmlns=\"http://www.w3.org/2000/svg\" height=\"24px\" viewBox=\"0 -960 960 960\">\n",
              "    <path d=\"M120-120v-720h720v720H120Zm60-500h600v-160H180v160Zm220 220h160v-160H400v160Zm0 220h160v-160H400v160ZM180-400h160v-160H180v160Zm440 0h160v-160H620v160ZM180-180h160v-160H180v160Zm440 0h160v-160H620v160Z\"/>\n",
              "  </svg>\n",
              "    </button>\n",
              "\n",
              "  <style>\n",
              "    .colab-df-container {\n",
              "      display:flex;\n",
              "      gap: 12px;\n",
              "    }\n",
              "\n",
              "    .colab-df-convert {\n",
              "      background-color: #E8F0FE;\n",
              "      border: none;\n",
              "      border-radius: 50%;\n",
              "      cursor: pointer;\n",
              "      display: none;\n",
              "      fill: #1967D2;\n",
              "      height: 32px;\n",
              "      padding: 0 0 0 0;\n",
              "      width: 32px;\n",
              "    }\n",
              "\n",
              "    .colab-df-convert:hover {\n",
              "      background-color: #E2EBFA;\n",
              "      box-shadow: 0px 1px 2px rgba(60, 64, 67, 0.3), 0px 1px 3px 1px rgba(60, 64, 67, 0.15);\n",
              "      fill: #174EA6;\n",
              "    }\n",
              "\n",
              "    .colab-df-buttons div {\n",
              "      margin-bottom: 4px;\n",
              "    }\n",
              "\n",
              "    [theme=dark] .colab-df-convert {\n",
              "      background-color: #3B4455;\n",
              "      fill: #D2E3FC;\n",
              "    }\n",
              "\n",
              "    [theme=dark] .colab-df-convert:hover {\n",
              "      background-color: #434B5C;\n",
              "      box-shadow: 0px 1px 3px 1px rgba(0, 0, 0, 0.15);\n",
              "      filter: drop-shadow(0px 1px 2px rgba(0, 0, 0, 0.3));\n",
              "      fill: #FFFFFF;\n",
              "    }\n",
              "  </style>\n",
              "\n",
              "    <script>\n",
              "      const buttonEl =\n",
              "        document.querySelector('#df-89b9c18b-4f28-4001-92e3-9980fb19e196 button.colab-df-convert');\n",
              "      buttonEl.style.display =\n",
              "        google.colab.kernel.accessAllowed ? 'block' : 'none';\n",
              "\n",
              "      async function convertToInteractive(key) {\n",
              "        const element = document.querySelector('#df-89b9c18b-4f28-4001-92e3-9980fb19e196');\n",
              "        const dataTable =\n",
              "          await google.colab.kernel.invokeFunction('convertToInteractive',\n",
              "                                                    [key], {});\n",
              "        if (!dataTable) return;\n",
              "\n",
              "        const docLinkHtml = 'Like what you see? Visit the ' +\n",
              "          '<a target=\"_blank\" href=https://colab.research.google.com/notebooks/data_table.ipynb>data table notebook</a>'\n",
              "          + ' to learn more about interactive tables.';\n",
              "        element.innerHTML = '';\n",
              "        dataTable['output_type'] = 'display_data';\n",
              "        await google.colab.output.renderOutput(dataTable, element);\n",
              "        const docLink = document.createElement('div');\n",
              "        docLink.innerHTML = docLinkHtml;\n",
              "        element.appendChild(docLink);\n",
              "      }\n",
              "    </script>\n",
              "  </div>\n",
              "\n",
              "\n",
              "<div id=\"df-388f55c8-e7e5-4339-8777-f3f747c01f81\">\n",
              "  <button class=\"colab-df-quickchart\" onclick=\"quickchart('df-388f55c8-e7e5-4339-8777-f3f747c01f81')\"\n",
              "            title=\"Suggest charts\"\n",
              "            style=\"display:none;\">\n",
              "\n",
              "<svg xmlns=\"http://www.w3.org/2000/svg\" height=\"24px\"viewBox=\"0 0 24 24\"\n",
              "     width=\"24px\">\n",
              "    <g>\n",
              "        <path d=\"M19 3H5c-1.1 0-2 .9-2 2v14c0 1.1.9 2 2 2h14c1.1 0 2-.9 2-2V5c0-1.1-.9-2-2-2zM9 17H7v-7h2v7zm4 0h-2V7h2v10zm4 0h-2v-4h2v4z\"/>\n",
              "    </g>\n",
              "</svg>\n",
              "  </button>\n",
              "\n",
              "<style>\n",
              "  .colab-df-quickchart {\n",
              "      --bg-color: #E8F0FE;\n",
              "      --fill-color: #1967D2;\n",
              "      --hover-bg-color: #E2EBFA;\n",
              "      --hover-fill-color: #174EA6;\n",
              "      --disabled-fill-color: #AAA;\n",
              "      --disabled-bg-color: #DDD;\n",
              "  }\n",
              "\n",
              "  [theme=dark] .colab-df-quickchart {\n",
              "      --bg-color: #3B4455;\n",
              "      --fill-color: #D2E3FC;\n",
              "      --hover-bg-color: #434B5C;\n",
              "      --hover-fill-color: #FFFFFF;\n",
              "      --disabled-bg-color: #3B4455;\n",
              "      --disabled-fill-color: #666;\n",
              "  }\n",
              "\n",
              "  .colab-df-quickchart {\n",
              "    background-color: var(--bg-color);\n",
              "    border: none;\n",
              "    border-radius: 50%;\n",
              "    cursor: pointer;\n",
              "    display: none;\n",
              "    fill: var(--fill-color);\n",
              "    height: 32px;\n",
              "    padding: 0;\n",
              "    width: 32px;\n",
              "  }\n",
              "\n",
              "  .colab-df-quickchart:hover {\n",
              "    background-color: var(--hover-bg-color);\n",
              "    box-shadow: 0 1px 2px rgba(60, 64, 67, 0.3), 0 1px 3px 1px rgba(60, 64, 67, 0.15);\n",
              "    fill: var(--button-hover-fill-color);\n",
              "  }\n",
              "\n",
              "  .colab-df-quickchart-complete:disabled,\n",
              "  .colab-df-quickchart-complete:disabled:hover {\n",
              "    background-color: var(--disabled-bg-color);\n",
              "    fill: var(--disabled-fill-color);\n",
              "    box-shadow: none;\n",
              "  }\n",
              "\n",
              "  .colab-df-spinner {\n",
              "    border: 2px solid var(--fill-color);\n",
              "    border-color: transparent;\n",
              "    border-bottom-color: var(--fill-color);\n",
              "    animation:\n",
              "      spin 1s steps(1) infinite;\n",
              "  }\n",
              "\n",
              "  @keyframes spin {\n",
              "    0% {\n",
              "      border-color: transparent;\n",
              "      border-bottom-color: var(--fill-color);\n",
              "      border-left-color: var(--fill-color);\n",
              "    }\n",
              "    20% {\n",
              "      border-color: transparent;\n",
              "      border-left-color: var(--fill-color);\n",
              "      border-top-color: var(--fill-color);\n",
              "    }\n",
              "    30% {\n",
              "      border-color: transparent;\n",
              "      border-left-color: var(--fill-color);\n",
              "      border-top-color: var(--fill-color);\n",
              "      border-right-color: var(--fill-color);\n",
              "    }\n",
              "    40% {\n",
              "      border-color: transparent;\n",
              "      border-right-color: var(--fill-color);\n",
              "      border-top-color: var(--fill-color);\n",
              "    }\n",
              "    60% {\n",
              "      border-color: transparent;\n",
              "      border-right-color: var(--fill-color);\n",
              "    }\n",
              "    80% {\n",
              "      border-color: transparent;\n",
              "      border-right-color: var(--fill-color);\n",
              "      border-bottom-color: var(--fill-color);\n",
              "    }\n",
              "    90% {\n",
              "      border-color: transparent;\n",
              "      border-bottom-color: var(--fill-color);\n",
              "    }\n",
              "  }\n",
              "</style>\n",
              "\n",
              "  <script>\n",
              "    async function quickchart(key) {\n",
              "      const quickchartButtonEl =\n",
              "        document.querySelector('#' + key + ' button');\n",
              "      quickchartButtonEl.disabled = true;  // To prevent multiple clicks.\n",
              "      quickchartButtonEl.classList.add('colab-df-spinner');\n",
              "      try {\n",
              "        const charts = await google.colab.kernel.invokeFunction(\n",
              "            'suggestCharts', [key], {});\n",
              "      } catch (error) {\n",
              "        console.error('Error during call to suggestCharts:', error);\n",
              "      }\n",
              "      quickchartButtonEl.classList.remove('colab-df-spinner');\n",
              "      quickchartButtonEl.classList.add('colab-df-quickchart-complete');\n",
              "    }\n",
              "    (() => {\n",
              "      let quickchartButtonEl =\n",
              "        document.querySelector('#df-388f55c8-e7e5-4339-8777-f3f747c01f81 button');\n",
              "      quickchartButtonEl.style.display =\n",
              "        google.colab.kernel.accessAllowed ? 'block' : 'none';\n",
              "    })();\n",
              "  </script>\n",
              "</div>\n",
              "    </div>\n",
              "  </div>\n"
            ]
          },
          "metadata": {},
          "execution_count": 5
        }
      ]
    },
    {
      "cell_type": "markdown",
      "source": [
        "Составим тепловую карту, чтобы визуализировать корреляцию между признаками в датасете."
      ],
      "metadata": {
        "id": "AgcIaXL8Aduo"
      }
    },
    {
      "cell_type": "code",
      "source": [
        "import seaborn as sns\n",
        "import matplotlib.pyplot as plt\n",
        "\n",
        "\n",
        "correlation_matrix = data.corr()\n",
        "\n",
        "\n",
        "plt.figure(figsize=(10, 8))\n",
        "sns.heatmap(correlation_matrix, annot=True, cmap='coolwarm', linewidths=0.5)\n",
        "plt.title('Тепловая карта корреляции признаков')\n",
        "plt.show()\n"
      ],
      "metadata": {
        "colab": {
          "base_uri": "https://localhost:8080/",
          "height": 755
        },
        "id": "HiGi60XVAYoO",
        "outputId": "78ce6487-03f6-4bbe-aeaf-d6641b665982"
      },
      "execution_count": null,
      "outputs": [
        {
          "output_type": "stream",
          "name": "stderr",
          "text": [
            "<ipython-input-6-d695e6fa3730>:5: FutureWarning: The default value of numeric_only in DataFrame.corr is deprecated. In a future version, it will default to False. Select only valid columns or specify the value of numeric_only to silence this warning.\n",
            "  correlation_matrix = data.corr()\n"
          ]
        },
        {
          "output_type": "display_data",
          "data": {
            "text/plain": [
              "<Figure size 1000x800 with 2 Axes>"
            ],
            "image/png": "[encoded data removed]"
          },
          "metadata": {}
        }
      ]
    },
    {
      "cell_type": "markdown",
      "source": [
        "- Year\n",
        "- Distance\n",
        "- Engine_capacity(cm3)\n",
        "- Price(euro)\n",
        "\n",
        "На эти перечисленные параметры будет обращено особое внимание с помощью гистограмм. Здесь выбросы будут влиять на форму и читаемость гистограмм."
      ],
      "metadata": {
        "id": "5EXkbZ9Og85K"
      }
    },
    {
      "cell_type": "code",
      "source": [
        "data.describe()[['Year', 'Distance', 'Engine_capacity(cm3)', 'Price(euro)']]"
      ],
      "metadata": {
        "colab": {
          "base_uri": "https://localhost:8080/",
          "height": 300
        },
        "id": "9JceZ19XhQ2S",
        "outputId": "3e22233f-d57d-43de-b6f2-276f929e72ff"
      },
      "execution_count": null,
      "outputs": [
        {
          "output_type": "execute_result",
          "data": {
            "text/plain": [
              "               Year      Distance  Engine_capacity(cm3)    Price(euro)\n",
              "count  30275.000000  3.027500e+04          30275.000000   30275.000000\n",
              "mean    2008.456647  3.928142e+05           1861.571693    9899.754253\n",
              "std        8.044707  3.946433e+06            694.204892   10656.069755\n",
              "min     1900.000000  0.000000e+00              0.000000       1.000000\n",
              "25%     2005.000000  9.254600e+04           1500.000000    3800.000000\n",
              "50%     2010.000000  1.690000e+05           1800.000000    7000.000000\n",
              "75%     2014.000000  2.268440e+05           2000.000000   12700.000000\n",
              "max     2021.000000  1.000000e+08           9999.000000  490000.000000"
            ],
            "text/html": [
              "\n",
              "  <div id=\"df-5cfbb9de-e4f4-4692-af27-5f343239f5a1\" class=\"colab-df-container\">\n",
              "    <div>\n",
              "<style scoped>\n",
              "    .dataframe tbody tr th:only-of-type {\n",
              "        vertical-align: middle;\n",
              "    }\n",
              "\n",
              "    .dataframe tbody tr th {\n",
              "        vertical-align: top;\n",
              "    }\n",
              "\n",
              "    .dataframe thead th {\n",
              "        text-align: right;\n",
              "    }\n",
              "</style>\n",
              "<table border=\"1\" class=\"dataframe\">\n",
              "  <thead>\n",
              "    <tr style=\"text-align: right;\">\n",
              "      <th></th>\n",
              "      <th>Year</th>\n",
              "      <th>Distance</th>\n",
              "      <th>Engine_capacity(cm3)</th>\n",
              "      <th>Price(euro)</th>\n",
              "    </tr>\n",
              "  </thead>\n",
              "  <tbody>\n",
              "    <tr>\n",
              "      <th>count</th>\n",
              "      <td>30275.000000</td>\n",
              "      <td>3.027500e+04</td>\n",
              "      <td>30275.000000</td>\n",
              "      <td>30275.000000</td>\n",
              "    </tr>\n",
              "    <tr>\n",
              "      <th>mean</th>\n",
              "      <td>2008.456647</td>\n",
              "      <td>3.928142e+05</td>\n",
              "      <td>1861.571693</td>\n",
              "      <td>9899.754253</td>\n",
              "    </tr>\n",
              "    <tr>\n",
              "      <th>std</th>\n",
              "      <td>8.044707</td>\n",
              "      <td>3.946433e+06</td>\n",
              "      <td>694.204892</td>\n",
              "      <td>10656.069755</td>\n",
              "    </tr>\n",
              "    <tr>\n",
              "      <th>min</th>\n",
              "      <td>1900.000000</td>\n",
              "      <td>0.000000e+00</td>\n",
              "      <td>0.000000</td>\n",
              "      <td>1.000000</td>\n",
              "    </tr>\n",
              "    <tr>\n",
              "      <th>25%</th>\n",
              "      <td>2005.000000</td>\n",
              "      <td>9.254600e+04</td>\n",
              "      <td>1500.000000</td>\n",
              "      <td>3800.000000</td>\n",
              "    </tr>\n",
              "    <tr>\n",
              "      <th>50%</th>\n",
              "      <td>2010.000000</td>\n",
              "      <td>1.690000e+05</td>\n",
              "      <td>1800.000000</td>\n",
              "      <td>7000.000000</td>\n",
              "    </tr>\n",
              "    <tr>\n",
              "      <th>75%</th>\n",
              "      <td>2014.000000</td>\n",
              "      <td>2.268440e+05</td>\n",
              "      <td>2000.000000</td>\n",
              "      <td>12700.000000</td>\n",
              "    </tr>\n",
              "    <tr>\n",
              "      <th>max</th>\n",
              "      <td>2021.000000</td>\n",
              "      <td>1.000000e+08</td>\n",
              "      <td>9999.000000</td>\n",
              "      <td>490000.000000</td>\n",
              "    </tr>\n",
              "  </tbody>\n",
              "</table>\n",
              "</div>\n",
              "    <div class=\"colab-df-buttons\">\n",
              "\n",
              "  <div class=\"colab-df-container\">\n",
              "    <button class=\"colab-df-convert\" onclick=\"convertToInteractive('df-5cfbb9de-e4f4-4692-af27-5f343239f5a1')\"\n",
              "            title=\"Convert this dataframe to an interactive table.\"\n",
              "            style=\"display:none;\">\n",
              "\n",
              "  <svg xmlns=\"http://www.w3.org/2000/svg\" height=\"24px\" viewBox=\"0 -960 960 960\">\n",
              "    <path d=\"M120-120v-720h720v720H120Zm60-500h600v-160H180v160Zm220 220h160v-160H400v160Zm0 220h160v-160H400v160ZM180-400h160v-160H180v160Zm440 0h160v-160H620v160ZM180-180h160v-160H180v160Zm440 0h160v-160H620v160Z\"/>\n",
              "  </svg>\n",
              "    </button>\n",
              "\n",
              "  <style>\n",
              "    .colab-df-container {\n",
              "      display:flex;\n",
              "      gap: 12px;\n",
              "    }\n",
              "\n",
              "    .colab-df-convert {\n",
              "      background-color: #E8F0FE;\n",
              "      border: none;\n",
              "      border-radius: 50%;\n",
              "      cursor: pointer;\n",
              "      display: none;\n",
              "      fill: #1967D2;\n",
              "      height: 32px;\n",
              "      padding: 0 0 0 0;\n",
              "      width: 32px;\n",
              "    }\n",
              "\n",
              "    .colab-df-convert:hover {\n",
              "      background-color: #E2EBFA;\n",
              "      box-shadow: 0px 1px 2px rgba(60, 64, 67, 0.3), 0px 1px 3px 1px rgba(60, 64, 67, 0.15);\n",
              "      fill: #174EA6;\n",
              "    }\n",
              "\n",
              "    .colab-df-buttons div {\n",
              "      margin-bottom: 4px;\n",
              "    }\n",
              "\n",
              "    [theme=dark] .colab-df-convert {\n",
              "      background-color: #3B4455;\n",
              "      fill: #D2E3FC;\n",
              "    }\n",
              "\n",
              "    [theme=dark] .colab-df-convert:hover {\n",
              "      background-color: #434B5C;\n",
              "      box-shadow: 0px 1px 3px 1px rgba(0, 0, 0, 0.15);\n",
              "      filter: drop-shadow(0px 1px 2px rgba(0, 0, 0, 0.3));\n",
              "      fill: #FFFFFF;\n",
              "    }\n",
              "  </style>\n",
              "\n",
              "    <script>\n",
              "      const buttonEl =\n",
              "        document.querySelector('#df-5cfbb9de-e4f4-4692-af27-5f343239f5a1 button.colab-df-convert');\n",
              "      buttonEl.style.display =\n",
              "        google.colab.kernel.accessAllowed ? 'block' : 'none';\n",
              "\n",
              "      async function convertToInteractive(key) {\n",
              "        const element = document.querySelector('#df-5cfbb9de-e4f4-4692-af27-5f343239f5a1');\n",
              "        const dataTable =\n",
              "          await google.colab.kernel.invokeFunction('convertToInteractive',\n",
              "                                                    [key], {});\n",
              "        if (!dataTable) return;\n",
              "\n",
              "        const docLinkHtml = 'Like what you see? Visit the ' +\n",
              "          '<a target=\"_blank\" href=https://colab.research.google.com/notebooks/data_table.ipynb>data table notebook</a>'\n",
              "          + ' to learn more about interactive tables.';\n",
              "        element.innerHTML = '';\n",
              "        dataTable['output_type'] = 'display_data';\n",
              "        await google.colab.output.renderOutput(dataTable, element);\n",
              "        const docLink = document.createElement('div');\n",
              "        docLink.innerHTML = docLinkHtml;\n",
              "        element.appendChild(docLink);\n",
              "      }\n",
              "    </script>\n",
              "  </div>\n",
              "\n",
              "\n",
              "<div id=\"df-c53ea0b0-dbf2-4716-a62f-9495577d9633\">\n",
              "  <button class=\"colab-df-quickchart\" onclick=\"quickchart('df-c53ea0b0-dbf2-4716-a62f-9495577d9633')\"\n",
              "            title=\"Suggest charts\"\n",
              "            style=\"display:none;\">\n",
              "\n",
              "<svg xmlns=\"http://www.w3.org/2000/svg\" height=\"24px\"viewBox=\"0 0 24 24\"\n",
              "     width=\"24px\">\n",
              "    <g>\n",
              "        <path d=\"M19 3H5c-1.1 0-2 .9-2 2v14c0 1.1.9 2 2 2h14c1.1 0 2-.9 2-2V5c0-1.1-.9-2-2-2zM9 17H7v-7h2v7zm4 0h-2V7h2v10zm4 0h-2v-4h2v4z\"/>\n",
              "    </g>\n",
              "</svg>\n",
              "  </button>\n",
              "\n",
              "<style>\n",
              "  .colab-df-quickchart {\n",
              "      --bg-color: #E8F0FE;\n",
              "      --fill-color: #1967D2;\n",
              "      --hover-bg-color: #E2EBFA;\n",
              "      --hover-fill-color: #174EA6;\n",
              "      --disabled-fill-color: #AAA;\n",
              "      --disabled-bg-color: #DDD;\n",
              "  }\n",
              "\n",
              "  [theme=dark] .colab-df-quickchart {\n",
              "      --bg-color: #3B4455;\n",
              "      --fill-color: #D2E3FC;\n",
              "      --hover-bg-color: #434B5C;\n",
              "      --hover-fill-color: #FFFFFF;\n",
              "      --disabled-bg-color: #3B4455;\n",
              "      --disabled-fill-color: #666;\n",
              "  }\n",
              "\n",
              "  .colab-df-quickchart {\n",
              "    background-color: var(--bg-color);\n",
              "    border: none;\n",
              "    border-radius: 50%;\n",
              "    cursor: pointer;\n",
              "    display: none;\n",
              "    fill: var(--fill-color);\n",
              "    height: 32px;\n",
              "    padding: 0;\n",
              "    width: 32px;\n",
              "  }\n",
              "\n",
              "  .colab-df-quickchart:hover {\n",
              "    background-color: var(--hover-bg-color);\n",
              "    box-shadow: 0 1px 2px rgba(60, 64, 67, 0.3), 0 1px 3px 1px rgba(60, 64, 67, 0.15);\n",
              "    fill: var(--button-hover-fill-color);\n",
              "  }\n",
              "\n",
              "  .colab-df-quickchart-complete:disabled,\n",
              "  .colab-df-quickchart-complete:disabled:hover {\n",
              "    background-color: var(--disabled-bg-color);\n",
              "    fill: var(--disabled-fill-color);\n",
              "    box-shadow: none;\n",
              "  }\n",
              "\n",
              "  .colab-df-spinner {\n",
              "    border: 2px solid var(--fill-color);\n",
              "    border-color: transparent;\n",
              "    border-bottom-color: var(--fill-color);\n",
              "    animation:\n",
              "      spin 1s steps(1) infinite;\n",
              "  }\n",
              "\n",
              "  @keyframes spin {\n",
              "    0% {\n",
              "      border-color: transparent;\n",
              "      border-bottom-color: var(--fill-color);\n",
              "      border-left-color: var(--fill-color);\n",
              "    }\n",
              "    20% {\n",
              "      border-color: transparent;\n",
              "      border-left-color: var(--fill-color);\n",
              "      border-top-color: var(--fill-color);\n",
              "    }\n",
              "    30% {\n",
              "      border-color: transparent;\n",
              "      border-left-color: var(--fill-color);\n",
              "      border-top-color: var(--fill-color);\n",
              "      border-right-color: var(--fill-color);\n",
              "    }\n",
              "    40% {\n",
              "      border-color: transparent;\n",
              "      border-right-color: var(--fill-color);\n",
              "      border-top-color: var(--fill-color);\n",
              "    }\n",
              "    60% {\n",
              "      border-color: transparent;\n",
              "      border-right-color: var(--fill-color);\n",
              "    }\n",
              "    80% {\n",
              "      border-color: transparent;\n",
              "      border-right-color: var(--fill-color);\n",
              "      border-bottom-color: var(--fill-color);\n",
              "    }\n",
              "    90% {\n",
              "      border-color: transparent;\n",
              "      border-bottom-color: var(--fill-color);\n",
              "    }\n",
              "  }\n",
              "</style>\n",
              "\n",
              "  <script>\n",
              "    async function quickchart(key) {\n",
              "      const quickchartButtonEl =\n",
              "        document.querySelector('#' + key + ' button');\n",
              "      quickchartButtonEl.disabled = true;  // To prevent multiple clicks.\n",
              "      quickchartButtonEl.classList.add('colab-df-spinner');\n",
              "      try {\n",
              "        const charts = await google.colab.kernel.invokeFunction(\n",
              "            'suggestCharts', [key], {});\n",
              "      } catch (error) {\n",
              "        console.error('Error during call to suggestCharts:', error);\n",
              "      }\n",
              "      quickchartButtonEl.classList.remove('colab-df-spinner');\n",
              "      quickchartButtonEl.classList.add('colab-df-quickchart-complete');\n",
              "    }\n",
              "    (() => {\n",
              "      let quickchartButtonEl =\n",
              "        document.querySelector('#df-c53ea0b0-dbf2-4716-a62f-9495577d9633 button');\n",
              "      quickchartButtonEl.style.display =\n",
              "        google.colab.kernel.accessAllowed ? 'block' : 'none';\n",
              "    })();\n",
              "  </script>\n",
              "</div>\n",
              "    </div>\n",
              "  </div>\n"
            ]
          },
          "metadata": {},
          "execution_count": 7
        }
      ]
    },
    {
      "cell_type": "code",
      "source": [
        "columns = ['Year', 'Distance', 'Engine_capacity(cm3)', 'Price(euro)']\n",
        "\n",
        "for column in columns:\n",
        "    data.hist(column)"
      ],
      "metadata": {
        "colab": {
          "base_uri": "https://localhost:8080/",
          "height": 1000
        },
        "id": "07VYsmCqhc1a",
        "outputId": "e623b66a-0fad-432c-94e1-d80e89a2ca67"
      },
      "execution_count": null,
      "outputs": [
        {
          "output_type": "display_data",
          "data": {
            "text/plain": [
              "<Figure size 640x480 with 1 Axes>"
            ],
            "image/png": "[encoded data removed]"
          },
          "metadata": {}
        },
        {
          "output_type": "display_data",
          "data": {
            "text/plain": [
              "<Figure size 640x480 with 1 Axes>"
            ],
            "image/png": "[encoded data removed]"
          },
          "metadata": {}
        },
        {
          "output_type": "display_data",
          "data": {
            "text/plain": [
              "<Figure size 640x480 with 1 Axes>"
            ],
            "image/png": "[encoded data removed]"
          },
          "metadata": {}
        },
        {
          "output_type": "display_data",
          "data": {
            "text/plain": [
              "<Figure size 640x480 with 1 Axes>"
            ],
            "image/png": "[encoded data removed]"
          },
          "metadata": {}
        }
      ]
    },
    {
      "cell_type": "code",
      "source": [
        "# Визуализация выбросов с помощью boxplots\n",
        "\n",
        "plt.figure(figsize=(20, 12))\n",
        "\n",
        "for idx, col in enumerate(['Year', 'Distance', 'Engine_capacity(cm3)', 'Price(euro)'], start=1):\n",
        "    plt.subplot(2, 2, idx)\n",
        "    sns.boxplot(x=data[col])\n",
        "    plt.title(f'Boxplot для {col}')\n",
        "    plt.xlabel(col)\n",
        "\n",
        "plt.tight_layout()\n",
        "plt.show()\n"
      ],
      "metadata": {
        "colab": {
          "base_uri": "https://localhost:8080/",
          "height": 536
        },
        "id": "8CTzK7oaDJs0",
        "outputId": "17afddfe-df6e-42b8-f79b-7caa1ed082a7"
      },
      "execution_count": null,
      "outputs": [
        {
          "output_type": "display_data",
          "data": {
            "text/plain": [
              "<Figure size 2000x1200 with 4 Axes>"
            ],
            "image/png": "[encoded data removed]"
          },
          "metadata": {}
        }
      ]
    },
    {
      "cell_type": "markdown",
      "source": [
        "Избавимся от выбросов"
      ],
      "metadata": {
        "id": "oxLWu32_7ExQ"
      }
    },
    {
      "cell_type": "code",
      "source": [
        "# Функция для очистки данных от выбросов на основе IQR\n",
        "def remove_outliers(df, column):\n",
        "    Q1 = df[column].quantile(0.25)\n",
        "    Q3 = df[column].quantile(0.75)\n",
        "    IQR = Q3 - Q1\n",
        "    lower_bound = Q1 - 1.5 * IQR\n",
        "    upper_bound = Q3 + 1.5 * IQR\n",
        "    return df[(df[column] >= lower_bound) & (df[column] <= upper_bound)]\n",
        "\n",
        "# Очистка данных от выбросов для каждого числового столбца\n",
        "cleaned_data = data.copy()\n",
        "for col in ['Year', 'Distance', 'Engine_capacity(cm3)', 'Price(euro)']:\n",
        "    cleaned_data = remove_outliers(cleaned_data, col)\n",
        "\n",
        "# Сравним размеры исходного и очищенного датасетов\n",
        "original_size = data.shape[0]\n",
        "cleaned_size = cleaned_data.shape[0]\n",
        "original_size, cleaned_size\n"
      ],
      "metadata": {
        "colab": {
          "base_uri": "https://localhost:8080/"
        },
        "id": "Oi_EpGiT7NPG",
        "outputId": "a9e133d9-2eb4-40d9-86d5-33f39d4b7c9b"
      },
      "execution_count": null,
      "outputs": [
        {
          "output_type": "execute_result",
          "data": {
            "text/plain": [
              "(30275, 24223)"
            ]
          },
          "metadata": {},
          "execution_count": 10
        }
      ]
    },
    {
      "cell_type": "code",
      "source": [
        "# Визуализация выбросов с помощью boxplots\n",
        "\n",
        "plt.figure(figsize=(20, 12))\n",
        "\n",
        "for idx, col in enumerate(['Year', 'Distance', 'Engine_capacity(cm3)', 'Price(euro)'], start=1):\n",
        "    plt.subplot(2, 2, idx)\n",
        "    sns.boxplot(x=cleaned_data[col])\n",
        "    plt.title(f'Boxplot для {col}')\n",
        "    plt.xlabel(col)\n",
        "\n",
        "plt.tight_layout()\n",
        "plt.show()\n"
      ],
      "metadata": {
        "colab": {
          "base_uri": "https://localhost:8080/",
          "height": 535
        },
        "id": "dLtNo_jnD2wg",
        "outputId": "864ee657-f1c7-4e78-a189-f0215ac2f28e"
      },
      "execution_count": null,
      "outputs": [
        {
          "output_type": "display_data",
          "data": {
            "text/plain": [
              "<Figure size 2000x1200 with 4 Axes>"
            ],
            "image/png": "[encoded data removed]"
          },
          "metadata": {}
        }
      ]
    },
    {
      "cell_type": "markdown",
      "source": [
        "**Выделение целевой переменной и предикторов**"
      ],
      "metadata": {
        "id": "Qx34_1vJiOxl"
      }
    },
    {
      "cell_type": "code",
      "source": [
        "cleaned_data.head()\n",
        "cleaned_data.to_csv (r'cleaned_cars.csv', index= False )\n"
      ],
      "metadata": {
        "id": "29SRRoP3EYih"
      },
      "execution_count": null,
      "outputs": []
    },
    {
      "cell_type": "code",
      "source": [
        "# Создание X и y на основе очищенного датасета\n",
        "y = cleaned_data[\"Price(euro)\"]\n",
        "X = cleaned_data.drop([\"Price(euro)\", 'Make', 'Model', 'Style'], axis=1)\n",
        "\n",
        "# Замена значений в столбце Transmission\n",
        "X['Transmission'] = X['Transmission'].replace({'Automatic': 1, 'Manual': 0})\n",
        "X['Fuel_type'] = X['Fuel_type'].replace({'Diesel': 1, 'Petrol': 2, 'Metan/Propan': 3, 'Hybrid': 4, 'Plug-in Hybrid': 5, 'Electric': 6})\n",
        "\n",
        "\n",
        "\n",
        "X.head()  # Вывод первых строк обновленного набора признаков\n",
        "\n",
        "\n",
        "\n"
      ],
      "metadata": {
        "colab": {
          "base_uri": "https://localhost:8080/",
          "height": 206
        },
        "id": "GqIit55Oitjd",
        "outputId": "a30aadb5-8aa0-44e0-ded8-490df98ede26"
      },
      "execution_count": null,
      "outputs": [
        {
          "output_type": "execute_result",
          "data": {
            "text/plain": [
              "     Year  Distance  Engine_capacity(cm3)  Fuel_type  Transmission\n",
              "0  2011.0  195000.0                1800.0          4             1\n",
              "1  2014.0  135000.0                1500.0          1             0\n",
              "2  1998.0       1.0                1400.0          2             0\n",
              "3  2012.0  110000.0                1500.0          1             0\n",
              "4  2006.0  200000.0                1600.0          3             0"
            ],
            "text/html": [
              "\n",
              "  <div id=\"df-37bdb6ab-75b0-4277-b871-ff128c339698\" class=\"colab-df-container\">\n",
              "    <div>\n",
              "<style scoped>\n",
              "    .dataframe tbody tr th:only-of-type {\n",
              "        vertical-align: middle;\n",
              "    }\n",
              "\n",
              "    .dataframe tbody tr th {\n",
              "        vertical-align: top;\n",
              "    }\n",
              "\n",
              "    .dataframe thead th {\n",
              "        text-align: right;\n",
              "    }\n",
              "</style>\n",
              "<table border=\"1\" class=\"dataframe\">\n",
              "  <thead>\n",
              "    <tr style=\"text-align: right;\">\n",
              "      <th></th>\n",
              "      <th>Year</th>\n",
              "      <th>Distance</th>\n",
              "      <th>Engine_capacity(cm3)</th>\n",
              "      <th>Fuel_type</th>\n",
              "      <th>Transmission</th>\n",
              "    </tr>\n",
              "  </thead>\n",
              "  <tbody>\n",
              "    <tr>\n",
              "      <th>0</th>\n",
              "      <td>2011.0</td>\n",
              "      <td>195000.0</td>\n",
              "      <td>1800.0</td>\n",
              "      <td>4</td>\n",
              "      <td>1</td>\n",
              "    </tr>\n",
              "    <tr>\n",
              "      <th>1</th>\n",
              "      <td>2014.0</td>\n",
              "      <td>135000.0</td>\n",
              "      <td>1500.0</td>\n",
              "      <td>1</td>\n",
              "      <td>0</td>\n",
              "    </tr>\n",
              "    <tr>\n",
              "      <th>2</th>\n",
              "      <td>1998.0</td>\n",
              "      <td>1.0</td>\n",
              "      <td>1400.0</td>\n",
              "      <td>2</td>\n",
              "      <td>0</td>\n",
              "    </tr>\n",
              "    <tr>\n",
              "      <th>3</th>\n",
              "      <td>2012.0</td>\n",
              "      <td>110000.0</td>\n",
              "      <td>1500.0</td>\n",
              "      <td>1</td>\n",
              "      <td>0</td>\n",
              "    </tr>\n",
              "    <tr>\n",
              "      <th>4</th>\n",
              "      <td>2006.0</td>\n",
              "      <td>200000.0</td>\n",
              "      <td>1600.0</td>\n",
              "      <td>3</td>\n",
              "      <td>0</td>\n",
              "    </tr>\n",
              "  </tbody>\n",
              "</table>\n",
              "</div>\n",
              "    <div class=\"colab-df-buttons\">\n",
              "\n",
              "  <div class=\"colab-df-container\">\n",
              "    <button class=\"colab-df-convert\" onclick=\"convertToInteractive('df-37bdb6ab-75b0-4277-b871-ff128c339698')\"\n",
              "            title=\"Convert this dataframe to an interactive table.\"\n",
              "            style=\"display:none;\">\n",
              "\n",
              "  <svg xmlns=\"http://www.w3.org/2000/svg\" height=\"24px\" viewBox=\"0 -960 960 960\">\n",
              "    <path d=\"M120-120v-720h720v720H120Zm60-500h600v-160H180v160Zm220 220h160v-160H400v160Zm0 220h160v-160H400v160ZM180-400h160v-160H180v160Zm440 0h160v-160H620v160ZM180-180h160v-160H180v160Zm440 0h160v-160H620v160Z\"/>\n",
              "  </svg>\n",
              "    </button>\n",
              "\n",
              "  <style>\n",
              "    .colab-df-container {\n",
              "      display:flex;\n",
              "      gap: 12px;\n",
              "    }\n",
              "\n",
              "    .colab-df-convert {\n",
              "      background-color: #E8F0FE;\n",
              "      border: none;\n",
              "      border-radius: 50%;\n",
              "      cursor: pointer;\n",
              "      display: none;\n",
              "      fill: #1967D2;\n",
              "      height: 32px;\n",
              "      padding: 0 0 0 0;\n",
              "      width: 32px;\n",
              "    }\n",
              "\n",
              "    .colab-df-convert:hover {\n",
              "      background-color: #E2EBFA;\n",
              "      box-shadow: 0px 1px 2px rgba(60, 64, 67, 0.3), 0px 1px 3px 1px rgba(60, 64, 67, 0.15);\n",
              "      fill: #174EA6;\n",
              "    }\n",
              "\n",
              "    .colab-df-buttons div {\n",
              "      margin-bottom: 4px;\n",
              "    }\n",
              "\n",
              "    [theme=dark] .colab-df-convert {\n",
              "      background-color: #3B4455;\n",
              "      fill: #D2E3FC;\n",
              "    }\n",
              "\n",
              "    [theme=dark] .colab-df-convert:hover {\n",
              "      background-color: #434B5C;\n",
              "      box-shadow: 0px 1px 3px 1px rgba(0, 0, 0, 0.15);\n",
              "      filter: drop-shadow(0px 1px 2px rgba(0, 0, 0, 0.3));\n",
              "      fill: #FFFFFF;\n",
              "    }\n",
              "  </style>\n",
              "\n",
              "    <script>\n",
              "      const buttonEl =\n",
              "        document.querySelector('#df-37bdb6ab-75b0-4277-b871-ff128c339698 button.colab-df-convert');\n",
              "      buttonEl.style.display =\n",
              "        google.colab.kernel.accessAllowed ? 'block' : 'none';\n",
              "\n",
              "      async function convertToInteractive(key) {\n",
              "        const element = document.querySelector('#df-37bdb6ab-75b0-4277-b871-ff128c339698');\n",
              "        const dataTable =\n",
              "          await google.colab.kernel.invokeFunction('convertToInteractive',\n",
              "                                                    [key], {});\n",
              "        if (!dataTable) return;\n",
              "\n",
              "        const docLinkHtml = 'Like what you see? Visit the ' +\n",
              "          '<a target=\"_blank\" href=https://colab.research.google.com/notebooks/data_table.ipynb>data table notebook</a>'\n",
              "          + ' to learn more about interactive tables.';\n",
              "        element.innerHTML = '';\n",
              "        dataTable['output_type'] = 'display_data';\n",
              "        await google.colab.output.renderOutput(dataTable, element);\n",
              "        const docLink = document.createElement('div');\n",
              "        docLink.innerHTML = docLinkHtml;\n",
              "        element.appendChild(docLink);\n",
              "      }\n",
              "    </script>\n",
              "  </div>\n",
              "\n",
              "\n",
              "<div id=\"df-ce293f1a-511c-4c59-9b8a-a452187f188a\">\n",
              "  <button class=\"colab-df-quickchart\" onclick=\"quickchart('df-ce293f1a-511c-4c59-9b8a-a452187f188a')\"\n",
              "            title=\"Suggest charts\"\n",
              "            style=\"display:none;\">\n",
              "\n",
              "<svg xmlns=\"http://www.w3.org/2000/svg\" height=\"24px\"viewBox=\"0 0 24 24\"\n",
              "     width=\"24px\">\n",
              "    <g>\n",
              "        <path d=\"M19 3H5c-1.1 0-2 .9-2 2v14c0 1.1.9 2 2 2h14c1.1 0 2-.9 2-2V5c0-1.1-.9-2-2-2zM9 17H7v-7h2v7zm4 0h-2V7h2v10zm4 0h-2v-4h2v4z\"/>\n",
              "    </g>\n",
              "</svg>\n",
              "  </button>\n",
              "\n",
              "<style>\n",
              "  .colab-df-quickchart {\n",
              "      --bg-color: #E8F0FE;\n",
              "      --fill-color: #1967D2;\n",
              "      --hover-bg-color: #E2EBFA;\n",
              "      --hover-fill-color: #174EA6;\n",
              "      --disabled-fill-color: #AAA;\n",
              "      --disabled-bg-color: #DDD;\n",
              "  }\n",
              "\n",
              "  [theme=dark] .colab-df-quickchart {\n",
              "      --bg-color: #3B4455;\n",
              "      --fill-color: #D2E3FC;\n",
              "      --hover-bg-color: #434B5C;\n",
              "      --hover-fill-color: #FFFFFF;\n",
              "      --disabled-bg-color: #3B4455;\n",
              "      --disabled-fill-color: #666;\n",
              "  }\n",
              "\n",
              "  .colab-df-quickchart {\n",
              "    background-color: var(--bg-color);\n",
              "    border: none;\n",
              "    border-radius: 50%;\n",
              "    cursor: pointer;\n",
              "    display: none;\n",
              "    fill: var(--fill-color);\n",
              "    height: 32px;\n",
              "    padding: 0;\n",
              "    width: 32px;\n",
              "  }\n",
              "\n",
              "  .colab-df-quickchart:hover {\n",
              "    background-color: var(--hover-bg-color);\n",
              "    box-shadow: 0 1px 2px rgba(60, 64, 67, 0.3), 0 1px 3px 1px rgba(60, 64, 67, 0.15);\n",
              "    fill: var(--button-hover-fill-color);\n",
              "  }\n",
              "\n",
              "  .colab-df-quickchart-complete:disabled,\n",
              "  .colab-df-quickchart-complete:disabled:hover {\n",
              "    background-color: var(--disabled-bg-color);\n",
              "    fill: var(--disabled-fill-color);\n",
              "    box-shadow: none;\n",
              "  }\n",
              "\n",
              "  .colab-df-spinner {\n",
              "    border: 2px solid var(--fill-color);\n",
              "    border-color: transparent;\n",
              "    border-bottom-color: var(--fill-color);\n",
              "    animation:\n",
              "      spin 1s steps(1) infinite;\n",
              "  }\n",
              "\n",
              "  @keyframes spin {\n",
              "    0% {\n",
              "      border-color: transparent;\n",
              "      border-bottom-color: var(--fill-color);\n",
              "      border-left-color: var(--fill-color);\n",
              "    }\n",
              "    20% {\n",
              "      border-color: transparent;\n",
              "      border-left-color: var(--fill-color);\n",
              "      border-top-color: var(--fill-color);\n",
              "    }\n",
              "    30% {\n",
              "      border-color: transparent;\n",
              "      border-left-color: var(--fill-color);\n",
              "      border-top-color: var(--fill-color);\n",
              "      border-right-color: var(--fill-color);\n",
              "    }\n",
              "    40% {\n",
              "      border-color: transparent;\n",
              "      border-right-color: var(--fill-color);\n",
              "      border-top-color: var(--fill-color);\n",
              "    }\n",
              "    60% {\n",
              "      border-color: transparent;\n",
              "      border-right-color: var(--fill-color);\n",
              "    }\n",
              "    80% {\n",
              "      border-color: transparent;\n",
              "      border-right-color: var(--fill-color);\n",
              "      border-bottom-color: var(--fill-color);\n",
              "    }\n",
              "    90% {\n",
              "      border-color: transparent;\n",
              "      border-bottom-color: var(--fill-color);\n",
              "    }\n",
              "  }\n",
              "</style>\n",
              "\n",
              "  <script>\n",
              "    async function quickchart(key) {\n",
              "      const quickchartButtonEl =\n",
              "        document.querySelector('#' + key + ' button');\n",
              "      quickchartButtonEl.disabled = true;  // To prevent multiple clicks.\n",
              "      quickchartButtonEl.classList.add('colab-df-spinner');\n",
              "      try {\n",
              "        const charts = await google.colab.kernel.invokeFunction(\n",
              "            'suggestCharts', [key], {});\n",
              "      } catch (error) {\n",
              "        console.error('Error during call to suggestCharts:', error);\n",
              "      }\n",
              "      quickchartButtonEl.classList.remove('colab-df-spinner');\n",
              "      quickchartButtonEl.classList.add('colab-df-quickchart-complete');\n",
              "    }\n",
              "    (() => {\n",
              "      let quickchartButtonEl =\n",
              "        document.querySelector('#df-ce293f1a-511c-4c59-9b8a-a452187f188a button');\n",
              "      quickchartButtonEl.style.display =\n",
              "        google.colab.kernel.accessAllowed ? 'block' : 'none';\n",
              "    })();\n",
              "  </script>\n",
              "</div>\n",
              "    </div>\n",
              "  </div>\n"
            ]
          },
          "metadata": {},
          "execution_count": 13
        }
      ]
    },
    {
      "cell_type": "code",
      "source": [
        "y"
      ],
      "metadata": {
        "colab": {
          "base_uri": "https://localhost:8080/"
        },
        "id": "Q1EyDexVi10U",
        "outputId": "a785397a-ff27-4a15-b609-f84e6f47fb0b"
      },
      "execution_count": null,
      "outputs": [
        {
          "output_type": "execute_result",
          "data": {
            "text/plain": [
              "0        7750.0\n",
              "1        8550.0\n",
              "2        2200.0\n",
              "3        6550.0\n",
              "4        4100.0\n",
              "          ...  \n",
              "41001    4400.0\n",
              "41002    7000.0\n",
              "41003    4500.0\n",
              "41005    4000.0\n",
              "41006    4000.0\n",
              "Name: Price(euro), Length: 32791, dtype: float64"
            ]
          },
          "metadata": {},
          "execution_count": 13
        }
      ]
    },
    {
      "cell_type": "markdown",
      "source": [
        "**Разделение данных на обучающую и тестовую выборки**"
      ],
      "metadata": {
        "id": "mEBLROfHi9R_"
      }
    },
    {
      "cell_type": "markdown",
      "source": [
        "Итак, данные предобработаны, целевой признак выделен, имеются обучающая и тестовая выборка. Мы готовы приступить к обучению."
      ],
      "metadata": {
        "id": "6dgLJny5jmGX"
      }
    },
    {
      "cell_type": "markdown",
      "source": [
        "Реализуем для начала простую регрессию"
      ],
      "metadata": {
        "id": "acbq7KEhH_16"
      }
    },
    {
      "cell_type": "code",
      "source": [
        "from sklearn.linear_model import LinearRegression\n",
        "from sklearn.metrics import mean_squared_error, r2_score\n",
        "from sklearn.model_selection import train_test_split\n",
        "\n",
        "simple_X = cleaned_data[['Year']]\n",
        "simple_y = cleaned_data['Price(euro)']\n",
        "\n",
        "\n",
        "# Разделение данных на обучающую и тестовую выборки\n",
        "X_train, X_test, y_train, y_test = train_test_split(simple_X, simple_y, test_size=0.2, random_state=42)\n",
        "\n",
        "\n",
        "# Обучение модели\n",
        "regressor = LinearRegression()\n",
        "regressor.fit(X_train, y_train)\n",
        "\n",
        "# Предсказание на тестовой выборке\n",
        "y_pred = regressor.predict(X_test)\n",
        "\n",
        "# Оценка модели\n",
        "mse = mean_squared_error(y_test, y_pred)\n",
        "r2 = r2_score(y_test, y_pred)\n",
        "\n",
        "mse, r2"
      ],
      "metadata": {
        "colab": {
          "base_uri": "https://localhost:8080/"
        },
        "id": "iBS_L3LkICzR",
        "outputId": "dd0e0b59-099a-4b3b-8e26-9eaa0140ef0b"
      },
      "execution_count": null,
      "outputs": [
        {
          "output_type": "execute_result",
          "data": {
            "text/plain": [
              "(13148277.32648257, 0.5078512817250964)"
            ]
          },
          "metadata": {},
          "execution_count": 14
        }
      ]
    },
    {
      "cell_type": "markdown",
      "source": [
        "Вот результаты простой линейной регрессии:\n",
        "\n",
        "    Среднеквадратическая ошибка (MSE): 13148277.32648257\n",
        "    Коэффициент детерминации R^2: 0.5078512817250964\n",
        "\n",
        "Коэффициент детерминации R^2 указывает на то, что примерно 51% вариации цены можно объяснить годом выпуска автомобиля."
      ],
      "metadata": {
        "id": "J8rdgf2RJlMA"
      }
    },
    {
      "cell_type": "markdown",
      "source": [
        "**другой признак**"
      ],
      "metadata": {
        "id": "vOhx2SpF6jys"
      }
    },
    {
      "cell_type": "markdown",
      "source": [
        "**Линейная регрессия (Linear Regression). Постановка задачи.**"
      ],
      "metadata": {
        "id": "hmynkmiDjnxw"
      }
    },
    {
      "cell_type": "markdown",
      "source": [
        "Теперь проведем ту же процедуру, но с большим количеством предикторов."
      ],
      "metadata": {
        "id": "i4FQ2xR3KZOC"
      }
    },
    {
      "cell_type": "code",
      "source": [
        "from sklearn.linear_model import LinearRegression, Lasso, Ridge\n",
        "from sklearn.metrics import mean_squared_error, mean_absolute_error, mean_absolute_percentage_error\n",
        "from math import sqrt\n",
        "from sklearn.linear_model import LogisticRegression\n",
        "from sklearn.metrics import accuracy_score, confusion_matrix\n",
        "\n",
        "\n",
        "# Разделение данных на обучающую и тестовую выборки\n",
        "X_train, X_test, y_train, y_test = train_test_split(X, y, test_size=0.2, random_state=42)\n",
        "\n",
        "\n",
        "# Обучение модели\n",
        "regressor = LinearRegression()\n",
        "regressor.fit(X_train, y_train)\n",
        "\n",
        "# Предсказание на тестовой выборке\n",
        "y_pred = regressor.predict(X_test)\n",
        "\n"
      ],
      "metadata": {
        "id": "SAwr_hitk6ib"
      },
      "execution_count": null,
      "outputs": []
    },
    {
      "cell_type": "code",
      "source": [
        "print(f'MAE: {mean_absolute_error(y_test, y_pred)}')\n",
        "print(f'MSE: {mean_squared_error(y_test, y_pred)}')\n",
        "print(f'RMSE: {sqrt(mean_squared_error(y_test, y_pred))}')\n",
        "print(f'MAPE: {sqrt(mean_absolute_percentage_error(y_pred, y_pred))}')\n",
        "print(f'R^2: {regressor.score(X_test, y_test)}')"
      ],
      "metadata": {
        "colab": {
          "base_uri": "https://localhost:8080/"
        },
        "id": "9mUQRVRBYjF-",
        "outputId": "1a59969f-7516-4d27-8e5b-29dce5ef344a"
      },
      "execution_count": null,
      "outputs": [
        {
          "output_type": "stream",
          "name": "stdout",
          "text": [
            "MAE: 2220.732402074188\n",
            "MSE: 8560824.329050964\n",
            "RMSE: 2925.888639208773\n",
            "MAPE: 0.0\n",
            "R^2: 0.679562682144448\n"
          ]
        }
      ]
    },
    {
      "cell_type": "markdown",
      "source": [
        "После того как мы началали давать для обучения больше предикторов, все показатели занчительно выросли. Показатель R^2 = 67%, это значит что успешность предсказания цены автомобиля равна 67%. Также показатель MSE уменьшился, что значит количество ошибок сократилось."
      ],
      "metadata": {
        "id": "KtU82zfsLmqL"
      }
    },
    {
      "cell_type": "markdown",
      "source": [
        "Теперь попробуем применить регуляризации."
      ],
      "metadata": {
        "id": "Ro0WGwo1-75n"
      }
    },
    {
      "cell_type": "code",
      "source": [
        "from sklearn.linear_model import Lasso, Ridge\n",
        "from sklearn.metrics import r2_score\n",
        "\n",
        "#L1\n",
        "# Создание и обучение Lasso модели\n",
        "lasso = Lasso(alpha=0.1)\n",
        "lasso.fit(X_train, y_train)\n",
        "\n",
        "# Предсказание с использованием Lasso модели\n",
        "y_predict_lasso = lasso.predict(X_test)\n",
        "\n",
        "print(f'MAE: {mean_absolute_error(y_test, y_predict_lasso)}')\n",
        "print(f'MSE: {mean_squared_error(y_test, y_predict_lasso)}')\n",
        "print(f'RMSE: {sqrt(mean_squared_error(y_test, y_predict_lasso))}')\n",
        "print(f'MAPE: {sqrt(mean_absolute_percentage_error(y_predict_lasso, y_predict_lasso))}')\n",
        "print(f'R^2: {lasso.score(X_test, y_test)}')\n",
        "print('--------------')\n",
        "\n",
        "\n",
        "#L2\n",
        "# Создание и обучение Ridge модели\n",
        "ridge = Ridge(alpha=0.1)\n",
        "ridge.fit(X_train, y_train)\n",
        "\n",
        "# Предсказание с использованием Ridge модели\n",
        "y_predict_ridge = ridge.predict(X_test)\n",
        "\n",
        "print(f'MAE: {mean_absolute_error(y_test, y_predict_ridge)}')\n",
        "print(f'MSE: {mean_squared_error(y_test, y_predict_ridge)}')\n",
        "print(f'RMSE: {sqrt(mean_squared_error(y_test, y_predict_ridge))}')\n",
        "print(f'MAPE: {sqrt(mean_absolute_percentage_error(y_predict_ridge, y_predict_ridge))}')\n",
        "print(f'R^2: {ridge.score(X_test, y_test)}')\n",
        "\n"
      ],
      "metadata": {
        "colab": {
          "base_uri": "https://localhost:8080/"
        },
        "id": "ZbS6Pz1h_jKa",
        "outputId": "a6d68573-020b-442b-e18c-dc9782febddf"
      },
      "execution_count": null,
      "outputs": [
        {
          "output_type": "stream",
          "name": "stdout",
          "text": [
            "MAE: 2220.7305208504335\n",
            "MSE: 8560827.443072785\n",
            "RMSE: 2925.8891713584753\n",
            "MAPE: 0.0\n",
            "R^2: 0.6795625655845512\n",
            "--------------\n",
            "MAE: 2220.73224132172\n",
            "MSE: 8560824.153145764\n",
            "RMSE: 2925.88860914864\n",
            "MAPE: 0.0\n",
            "R^2: 0.6795626887286961\n"
          ]
        }
      ]
    },
    {
      "cell_type": "markdown",
      "source": [
        "После применения метода регуляризации, основные показатели сильно не изменились, идем дальше."
      ],
      "metadata": {
        "id": "k1HzACRxMwnj"
      }
    },
    {
      "cell_type": "markdown",
      "source": [
        "Попробуем выполнить подбор параметра с помощью GridSearchCV, RandomizedSearchCV"
      ],
      "metadata": {
        "id": "6NJGyQPoCAY4"
      }
    },
    {
      "cell_type": "code",
      "source": [
        "from sklearn.model_selection import GridSearchCV, RandomizedSearchCV\n",
        "import numpy as np\n",
        "\n",
        "param_grid_ridge = {\n",
        "    'alpha': [0.0001, 0.001, 0.01, 0.1, 1, 10, 100]\n",
        "}\n",
        "\n",
        "\n",
        "ridge_optimal = GridSearchCV(Ridge(), param_grid_ridge).fit(X_train, y_train)\n",
        "# выводим оптимальные значения параметров\n",
        "\n",
        "\n",
        "ridge_optimal_rand = RandomizedSearchCV(Ridge(), param_grid_ridge).fit(X_train, y_train)\n",
        "# выводим оптимальные значения параметров\n",
        "\n",
        "print(f\"RIDGE\\nGrindSearch ---> {ridge_optimal.best_params_}\\nRandomizedSearch ---> {ridge_optimal_rand.best_params_['alpha']}\")\n",
        "\n",
        "\n",
        "\n",
        "ridge_optimal = GridSearchCV(Lasso(), param_grid_ridge).fit(X_train, y_train)\n",
        "# выводим оптимальные значения параметров\n",
        "\n",
        "\n",
        "ridge_optimal_rand = RandomizedSearchCV(Lasso(), param_grid_ridge).fit(X_train, y_train)\n",
        "# выводим оптимальные значения параметров\n",
        "\n",
        "\n",
        "print(f\"LASSO\\nGrindSearch ---> {ridge_optimal.best_params_}\\nRandomizedSearch ---> {ridge_optimal_rand.best_params_['alpha']}\")\n"
      ],
      "metadata": {
        "colab": {
          "base_uri": "https://localhost:8080/"
        },
        "id": "pbNAXUBxB5nA",
        "outputId": "0e62a679-eee7-4294-aafe-0adc2c84a551"
      },
      "execution_count": null,
      "outputs": [
        {
          "output_type": "stream",
          "name": "stderr",
          "text": [
            "/usr/local/lib/python3.10/dist-packages/sklearn/model_selection/_search.py:305: UserWarning: The total space of parameters 7 is smaller than n_iter=10. Running 7 iterations. For exhaustive searches, use GridSearchCV.\n",
            "  warnings.warn(\n"
          ]
        },
        {
          "output_type": "stream",
          "name": "stdout",
          "text": [
            "RIDGE\n",
            "GrindSearch ---> {'alpha': 1}\n",
            "RandomizedSearch ---> 1\n"
          ]
        },
        {
          "output_type": "stream",
          "name": "stderr",
          "text": [
            "/usr/local/lib/python3.10/dist-packages/sklearn/model_selection/_search.py:305: UserWarning: The total space of parameters 7 is smaller than n_iter=10. Running 7 iterations. For exhaustive searches, use GridSearchCV.\n",
            "  warnings.warn(\n"
          ]
        },
        {
          "output_type": "stream",
          "name": "stdout",
          "text": [
            "LASSO\n",
            "GrindSearch ---> {'alpha': 0.1}\n",
            "RandomizedSearch ---> 0.1\n"
          ]
        }
      ]
    },
    {
      "cell_type": "markdown",
      "source": [
        "Мы нашли самые подходящие гиперпараметры для каждого метода. Теперь применим их на всех предыдущих методах."
      ],
      "metadata": {
        "id": "yUhttAcUrH69"
      }
    },
    {
      "cell_type": "code",
      "source": [
        "#L1\n",
        "# Создание и обучение Lasso модели\n",
        "lasso = Lasso(alpha=0.1)\n",
        "lasso.fit(X_train, y_train)\n",
        "\n",
        "# Предсказание с использованием Lasso модели\n",
        "y_predict_lasso = lasso.predict(X_test)\n",
        "\n",
        "\n",
        "print('LASSO WITH NEW VALUE')\n",
        "print(f'MAE: {mean_absolute_error(y_test, y_predict_lasso)}')\n",
        "print(f'MSE: {mean_squared_error(y_test, y_predict_lasso)}')\n",
        "print(f'RMSE: {sqrt(mean_squared_error(y_test, y_predict_lasso))}')\n",
        "print(f'MAPE: {sqrt(mean_absolute_percentage_error(y_predict_lasso, y_predict_lasso))}')\n",
        "print(f'R^2: {lasso.score(X_test, y_test)}')\n",
        "print('--------------')\n",
        "\n",
        "\n",
        "#L2\n",
        "# Создание и обучение Ridge модели\n",
        "ridge = Ridge(alpha=1)\n",
        "ridge.fit(X_train, y_train)\n",
        "\n",
        "# Предсказание с использованием Ridge модели\n",
        "y_predict_ridge = ridge.predict(X_test)\n",
        "\n",
        "\n",
        "print('RIDGE WITH NEW VALUE')\n",
        "print(f'MAE: {mean_absolute_error(y_test, y_predict_ridge)}')\n",
        "print(f'MSE: {mean_squared_error(y_test, y_predict_ridge)}')\n",
        "print(f'RMSE: {sqrt(mean_squared_error(y_test, y_predict_ridge))}')\n",
        "print(f'MAPE: {sqrt(mean_absolute_percentage_error(y_predict_ridge, y_predict_ridge))}')\n",
        "print(f'R^2: {ridge.score(X_test, y_test)}')\n"
      ],
      "metadata": {
        "colab": {
          "base_uri": "https://localhost:8080/"
        },
        "id": "Vke5R5k2rToI",
        "outputId": "d5a56dd3-7b6d-4859-9401-3bb5033797b9"
      },
      "execution_count": null,
      "outputs": [
        {
          "output_type": "stream",
          "name": "stdout",
          "text": [
            "LASSO WITH NEW VALUE\n",
            "MAE: 2220.7305208504335\n",
            "MSE: 8560827.443072785\n",
            "RMSE: 2925.8891713584753\n",
            "MAPE: 0.0\n",
            "R^2: 0.6795625655845512\n",
            "--------------\n",
            "RIDGE WITH NEW VALUE\n",
            "MAE: 2220.730794876865\n",
            "MSE: 8560822.616698295\n",
            "RMSE: 2925.8883465878007\n",
            "MAPE: 0.0\n",
            "R^2: 0.6795627462389411\n"
          ]
        }
      ]
    },
    {
      "cell_type": "markdown",
      "source": [
        "Основные параметры не поменялись."
      ],
      "metadata": {
        "id": "JZ_JDSCHHd_D"
      }
    },
    {
      "cell_type": "markdown",
      "source": [
        "Применим метод полиномиальной регрессии."
      ],
      "metadata": {
        "id": "DbWs0rzqO31y"
      }
    },
    {
      "cell_type": "code",
      "source": [
        "import numpy as np\n",
        "from sklearn.preprocessing import PolynomialFeatures\n",
        "import matplotlib.pyplot as plt\n",
        "from sklearn.pipeline import make_pipeline\n",
        "\n",
        "#применение с методом Ridge\n",
        "pipeline = make_pipeline(PolynomialFeatures(2), Ridge())\n",
        "pipeline.fit(X_train, y_train)\n",
        "\n",
        "pred = pipeline.predict(X_test)\n",
        "\n",
        "mse = np.sqrt(mean_squared_error(y_test, pred))\n",
        "print(f'Mean error: {mse:3.3} ({mse/np.mean(pred)*100:3.3}%)')\n",
        "\n",
        "score = pipeline.score(X_train, y_train)\n",
        "print('Model determination: ', round(score, 2))\n",
        "\n",
        "print (f'MSE: {round (mean_squared_error(y_test, pred), 2)}')\n",
        "print (f'RMSE: {(round (sqrt (mean_squared_error(y_test, pred)),2))}')\n",
        "print (f'MAPE: {round (sqrt (mean_absolute_percentage_error(y_test, pred)),2)}')\n",
        "print(f'R^2: {round (pipeline.score (X_test, y_test), 2)}')"
      ],
      "metadata": {
        "colab": {
          "base_uri": "https://localhost:8080/"
        },
        "id": "L6F-5RwbPRqM",
        "outputId": "6749e98f-eedd-4e8b-f4a3-3d6463a9befd"
      },
      "execution_count": null,
      "outputs": [
        {
          "output_type": "stream",
          "name": "stdout",
          "text": [
            "Mean error: 2.41e+03 (32.2%)\n",
            "Model determination:  0.77\n",
            "MSE: 5803490.83\n",
            "RMSE: 2409.04\n",
            "MAPE: 0.63\n",
            "R^2: 0.78\n"
          ]
        },
        {
          "output_type": "stream",
          "name": "stderr",
          "text": [
            "/usr/local/lib/python3.10/dist-packages/sklearn/linear_model/_ridge.py:216: LinAlgWarning: Ill-conditioned matrix (rcond=3.41171e-26): result may not be accurate.\n",
            "  return linalg.solve(A, Xy, assume_a=\"pos\", overwrite_a=True).T\n"
          ]
        }
      ]
    },
    {
      "cell_type": "markdown",
      "source": [
        "Метод полиномиальной регрессии показал на данный момент лучшие результаты.\n",
        "Показатель R^2 = 78%, что на 10% выше предыдущего рекорда, также показатель MSE уменьшился, следовательно количество ошибок в прогнозах сократилось."
      ],
      "metadata": {
        "id": "NwlLr8tgOKj8"
      }
    },
    {
      "cell_type": "code",
      "source": [
        "#применение с методом Lasso\n",
        "pipeline = make_pipeline(PolynomialFeatures(2), Lasso())\n",
        "pipeline.fit(X_train, y_train)\n",
        "\n",
        "pred = pipeline.predict(X_test)\n",
        "\n",
        "mse = np.sqrt(mean_squared_error(y_test, pred))\n",
        "print(f'Mean error: {mse:3.3} ({mse/np.mean(pred)*100:3.3}%)')\n",
        "\n",
        "score = pipeline.score(X_train, y_train)\n",
        "print('Model determination: ', round(score, 2))\n",
        "\n",
        "print (f'MSE: {round (mean_squared_error(y_test, pred), 2)}')\n",
        "print (f'RMSE: {(round (sqrt (mean_squared_error(y_test, pred)),2))}')\n",
        "print (f'MAPE: {round (sqrt (mean_absolute_percentage_error(y_test, pred)),2)}')\n",
        "print(f'R^2: {round (pipeline.score (X_test, y_test), 2)}')"
      ],
      "metadata": {
        "colab": {
          "base_uri": "https://localhost:8080/"
        },
        "id": "HppL0CooSV3Z",
        "outputId": "180c309f-93f0-406d-b693-16e924897efb"
      },
      "execution_count": null,
      "outputs": [
        {
          "output_type": "stream",
          "name": "stdout",
          "text": [
            "Mean error: 2.87e+03 (38.3%)\n",
            "Model determination:  0.67\n",
            "MSE: 8233048.05\n",
            "RMSE: 2869.33\n",
            "MAPE: 0.74\n",
            "R^2: 0.69\n"
          ]
        },
        {
          "output_type": "stream",
          "name": "stderr",
          "text": [
            "/usr/local/lib/python3.10/dist-packages/sklearn/linear_model/_coordinate_descent.py:631: ConvergenceWarning: Objective did not converge. You might want to increase the number of iterations, check the scale of the features or consider increasing regularisation. Duality gap: 1.169e+11, tolerance: 7.146e+07\n",
            "  model = cd_fast.enet_coordinate_descent(\n"
          ]
        }
      ]
    },
    {
      "cell_type": "code",
      "source": [
        "#применение с методом Ridge\n",
        "pipeline = make_pipeline(PolynomialFeatures(2), Ridge())\n",
        "pipeline.fit(X_train, y_train)\n",
        "\n",
        "pred = pipeline.predict(X_test)\n",
        "\n",
        "mse = np.sqrt(mean_squared_error(y_test, pred))\n",
        "print(f'Mean error: {mse:3.3} ({mse/np.mean(pred)*100:3.3}%)')\n",
        "\n",
        "score = pipeline.score(X_train, y_train)\n",
        "print('Model determination: ', round(score, 2))\n",
        "\n",
        "print (f'MSE: {round (mean_squared_error(y_test, pred), 2)}')\n",
        "print (f'RMSE: {(round (sqrt (mean_squared_error(y_test, pred)),2))}')\n",
        "print (f'MAPE: {round (sqrt (mean_absolute_percentage_error(y_test, pred)),2)}')\n",
        "print(f'R^2: {round (pipeline.score (X_test, y_test), 2)}')"
      ],
      "metadata": {
        "colab": {
          "base_uri": "https://localhost:8080/"
        },
        "id": "KNe1oaU9PCQd",
        "outputId": "1fbcc966-c0c4-4993-9ab3-073b67af04c2"
      },
      "execution_count": null,
      "outputs": [
        {
          "output_type": "stream",
          "name": "stdout",
          "text": [
            "Mean error: 2.41e+03 (32.2%)\n",
            "Model determination:  0.77\n",
            "MSE: 5803490.83\n",
            "RMSE: 2409.04\n",
            "MAPE: 0.63\n",
            "R^2: 0.78\n"
          ]
        },
        {
          "output_type": "stream",
          "name": "stderr",
          "text": [
            "/usr/local/lib/python3.10/dist-packages/sklearn/linear_model/_ridge.py:216: LinAlgWarning: Ill-conditioned matrix (rcond=3.41171e-26): result may not be accurate.\n",
            "  return linalg.solve(A, Xy, assume_a=\"pos\", overwrite_a=True).T\n"
          ]
        }
      ]
    },
    {
      "cell_type": "markdown",
      "source": [
        "Вместе с методом Lasso полиномиальная регрессия сработала неплохо, но есть результаты выше.\n",
        "В то время, как вместе с Ridge показатели схожи с рекордными."
      ],
      "metadata": {
        "id": "N5WE2oJBO4Ur"
      }
    },
    {
      "cell_type": "markdown",
      "source": [
        "# Итог"
      ],
      "metadata": {
        "id": "MS-0zRunhX0q"
      }
    },
    {
      "cell_type": "markdown",
      "source": [
        "Как итог, имеем двух финалистов с самыми высокими показателями точности предсказаний, а именно **метод Полиномиальной регрессии** и этот же метод в совокупности с **методом Ridge**.\n",
        "\n",
        "Ниже будут приведены лучшие показатели:\n",
        "\n",
        "```\n",
        "Mean error: 2.41e+03 (32.2%)\n",
        "Model determination:  0.77\n",
        "MSE: 5803490.83\n",
        "RMSE: 2409.04\n",
        "MAPE: 0.63\n",
        "R^2: 0.78\n",
        "```"
      ],
      "metadata": {
        "id": "a7Juh67ChZbq"
      }
    }
  ]
}